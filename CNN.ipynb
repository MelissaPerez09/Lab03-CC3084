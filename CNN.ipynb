{
 "cells": [
  {
   "cell_type": "markdown",
   "metadata": {},
   "source": [
    "# Laboratorio 03 - CNN\n",
    "Integrantes:\n",
    "- José Pablo Kiesling Lange, 21581\n",
    "- Melissa Pérez Alarcón, 21385"
   ]
  },
  {
   "cell_type": "markdown",
   "metadata": {},
   "source": [
    "### 1. Preparación de datos\n",
    "- Dividir el conjunto de datos en conjuntos de entrenamiento, validación y prueba.\n",
    "- Realizar preprocesamiento de las imágenes, como redimensionarlas a un tamaño estándar, normalización, etc."
   ]
  },
  {
   "cell_type": "code",
   "execution_count": null,
   "metadata": {},
   "outputs": [],
   "source": []
  },
  {
   "cell_type": "markdown",
   "metadata": {},
   "source": [
    "### 2. Implementación de la arquitectura Le-Net\n",
    "- Presentar la arquitectura Le-Net en detalle, explicando cada capa (convolucional, pooling, fully connected).\n",
    "- Mostrar el diseño de la red Le-Net utilizando una herramienta de diagramación.\n",
    "- Explicar el proceso de convolución, función de activación y pooling."
   ]
  },
  {
   "cell_type": "code",
   "execution_count": null,
   "metadata": {},
   "outputs": [],
   "source": []
  },
  {
   "cell_type": "markdown",
   "metadata": {},
   "source": [
    "### 3. Construcción del modelo\n",
    "- Utilizar la biblioteca de aprendizaje profundo TensorFlow para construir la arquitectura Le-Net.\n",
    "- Definir la estructura de capas convolucionales, capas de pooling y capas fully connected.\n",
    "- Explicar la importancia de la función de pérdida y el optimizador."
   ]
  },
  {
   "cell_type": "code",
   "execution_count": null,
   "metadata": {},
   "outputs": [],
   "source": []
  },
  {
   "cell_type": "markdown",
   "metadata": {},
   "source": [
    "### 4. Entrenamiento del modelo\n",
    "- Explicar el proceso de entrenamiento de la red neuronal.\n",
    "- Mostrar cómo cargar los datos de entrenamiento y validación en lotes.\n",
    "- Definir hiperparámetros como tasa de aprendizaje, número de épocas, tamaño de lote, etc."
   ]
  },
  {
   "cell_type": "code",
   "execution_count": null,
   "metadata": {},
   "outputs": [],
   "source": []
  },
  {
   "cell_type": "markdown",
   "metadata": {},
   "source": [
    "### 5. Evaluación del modelo:\n",
    "- Evaluar el modelo entrenado utilizando el conjunto de prueba.\n",
    "- Mostrar cómo calcular métricas de evaluación, como Precisión, Recall y F1-Score para cada clase."
   ]
  },
  {
   "cell_type": "code",
   "execution_count": null,
   "metadata": {},
   "outputs": [],
   "source": []
  },
  {
   "cell_type": "markdown",
   "metadata": {},
   "source": [
    "### 6. Mejoras y experimentación\n",
    "- Discutir posibles mejoras en el rendimiento del modelo, como ajuste de hiperparámetros, aumento de datos, regularización, etc.\n",
    "- Realizar experimentos y ajustes para mejorar el rendimiento del modelo."
   ]
  },
  {
   "cell_type": "code",
   "execution_count": null,
   "metadata": {},
   "outputs": [],
   "source": []
  }
 ],
 "metadata": {
  "language_info": {
   "name": "python"
  }
 },
 "nbformat": 4,
 "nbformat_minor": 2
}
